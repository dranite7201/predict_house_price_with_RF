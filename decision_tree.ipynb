{
 "cells": [
  {
   "cell_type": "code",
   "execution_count": 1,
   "metadata": {},
   "outputs": [
    {
     "ename": "ImportError",
     "evalue": "cannot import name 'dtreeviz' from 'dtreeviz.trees' (c:\\Users\\chobi\\anaconda3\\envs\\myenv\\lib\\site-packages\\dtreeviz\\trees.py)",
     "output_type": "error",
     "traceback": [
      "\u001b[1;31m---------------------------------------------------------------------------\u001b[0m",
      "\u001b[1;31mImportError\u001b[0m                               Traceback (most recent call last)",
      "Cell \u001b[1;32mIn[1], line 12\u001b[0m\n\u001b[0;32m     10\u001b[0m \u001b[39mfrom\u001b[39;00m \u001b[39msklearn\u001b[39;00m\u001b[39m.\u001b[39;00m\u001b[39mmetrics\u001b[39;00m \u001b[39mimport\u001b[39;00m accuracy_score, confusion_matrix, r2_score, mean_squared_error\n\u001b[0;32m     11\u001b[0m \u001b[39mfrom\u001b[39;00m \u001b[39msklearn\u001b[39;00m\u001b[39m.\u001b[39;00m\u001b[39mfeature_selection\u001b[39;00m \u001b[39mimport\u001b[39;00m SelectFromModel\n\u001b[1;32m---> 12\u001b[0m \u001b[39mfrom\u001b[39;00m \u001b[39mdtreeviz\u001b[39;00m\u001b[39m.\u001b[39;00m\u001b[39mtrees\u001b[39;00m \u001b[39mimport\u001b[39;00m dtreeviz\n",
      "\u001b[1;31mImportError\u001b[0m: cannot import name 'dtreeviz' from 'dtreeviz.trees' (c:\\Users\\chobi\\anaconda3\\envs\\myenv\\lib\\site-packages\\dtreeviz\\trees.py)"
     ]
    }
   ],
   "source": [
    "import seaborn as sns\n",
    "from matplotlib import pyplot as plt\n",
    "import pandas as pd\n",
    "import numpy as np\n",
    "\n",
    "from sklearn import tree\n",
    "from sklearn.preprocessing import MinMaxScaler, StandardScaler, OneHotEncoder, LabelEncoder\n",
    "from sklearn.model_selection import train_test_split\n",
    "from sklearn.ensemble import RandomForestRegressor\n",
    "from sklearn.metrics import accuracy_score, confusion_matrix, r2_score, mean_squared_error\n",
    "from sklearn.feature_selection import SelectFromModel\n",
    "from dtreeviz.trees import dtreeviz"
   ]
  },
  {
   "cell_type": "code",
   "execution_count": 2,
   "metadata": {},
   "outputs": [],
   "source": [
    "raw_data = pd.read_csv('train.csv')\n",
    "y = pd.DataFrame(raw_data['SalePrice'].copy(), columns=['SalePrice'])\n",
    "raw_data = raw_data.drop('SalePrice', axis = 1)\n",
    "y =np.ravel(y)\n",
    "\n"
   ]
  },
  {
   "cell_type": "code",
   "execution_count": 3,
   "metadata": {},
   "outputs": [
    {
     "data": {
      "text/plain": [
       "array([208500, 181500, 223500, ..., 266500, 142125, 147500], dtype=int64)"
      ]
     },
     "execution_count": 3,
     "metadata": {},
     "output_type": "execute_result"
    }
   ],
   "source": [
    "y"
   ]
  },
  {
   "cell_type": "code",
   "execution_count": 4,
   "metadata": {},
   "outputs": [],
   "source": [
    "num_data_columns = ['GrLivArea', 'TotalBsmtSF', '1stFlrSF', 'YearBuilt', 'YearRemodAdd','GarageArea', 'LotArea', 'BsmtFinSF1', 'TotRmsAbvGrd']\n",
    "label_data_columns = ['OverallQual','FullBath', 'ExterQual', 'KitchenQual', 'OverallCond']\n",
    "one_hot_columns = ['GarageCars', 'Neighborhood', 'GarageType', 'Fireplaces']"
   ]
  },
  {
   "cell_type": "code",
   "execution_count": 5,
   "metadata": {},
   "outputs": [],
   "source": [
    "num_data = raw_data[num_data_columns]\n",
    "label_data = raw_data[label_data_columns].astype('category') #because we about to work with LabelEncoder so the requirement of category type is in needed\n",
    "one_hot_data = raw_data[one_hot_columns]\n",
    "\n",
    "new_data = pd.concat([num_data,label_data,one_hot_data], axis = 1)"
   ]
  },
  {
   "cell_type": "code",
   "execution_count": 6,
   "metadata": {},
   "outputs": [],
   "source": [
    "def show_missing(data):\n",
    "    #returning pandas dataframes describing about missing datas in columns\n",
    "\n",
    "    variables = []\n",
    "    dtypes = []\n",
    "    count = []\n",
    "    missing = []\n",
    "    #check if there are any missing value here?\n",
    "    missing_vale_count = data.isnull().sum()\n",
    "    missing_column = missing_vale_count[missing_vale_count>0]\n",
    "    \n",
    "    #print out the detail of data\n",
    "    for r in data[missing_column.index]:\n",
    "        variables.append(r)\n",
    "        dtypes.append(data[r].dtype)\n",
    "        count.append(len(data[r]))\n",
    "        missing.append(missing_vale_count[r])\n",
    "\n",
    "    output_data = pd.DataFrame({\n",
    "        'variable' : variables,\n",
    "        'dtype' : dtypes,\n",
    "        'number' : count,\n",
    "        'missing data' : missing\n",
    "    })\n",
    "\n",
    "    return output_data"
   ]
  },
  {
   "cell_type": "code",
   "execution_count": 7,
   "metadata": {},
   "outputs": [
    {
     "data": {
      "text/html": [
       "<div>\n",
       "<style scoped>\n",
       "    .dataframe tbody tr th:only-of-type {\n",
       "        vertical-align: middle;\n",
       "    }\n",
       "\n",
       "    .dataframe tbody tr th {\n",
       "        vertical-align: top;\n",
       "    }\n",
       "\n",
       "    .dataframe thead th {\n",
       "        text-align: right;\n",
       "    }\n",
       "</style>\n",
       "<table border=\"1\" class=\"dataframe\">\n",
       "  <thead>\n",
       "    <tr style=\"text-align: right;\">\n",
       "      <th></th>\n",
       "      <th>variable</th>\n",
       "      <th>dtype</th>\n",
       "      <th>number</th>\n",
       "      <th>missing data</th>\n",
       "    </tr>\n",
       "  </thead>\n",
       "  <tbody>\n",
       "    <tr>\n",
       "      <th>0</th>\n",
       "      <td>GarageType</td>\n",
       "      <td>object</td>\n",
       "      <td>1460</td>\n",
       "      <td>81</td>\n",
       "    </tr>\n",
       "  </tbody>\n",
       "</table>\n",
       "</div>"
      ],
      "text/plain": [
       "     variable   dtype  number  missing data\n",
       "0  GarageType  object    1460            81"
      ]
     },
     "execution_count": 7,
     "metadata": {},
     "output_type": "execute_result"
    }
   ],
   "source": [
    "missing_column_processing = show_missing(new_data)\n",
    "missing_column_processing"
   ]
  },
  {
   "cell_type": "code",
   "execution_count": 8,
   "metadata": {},
   "outputs": [],
   "source": [
    "#fill in Garage relative with meaningfull value insted of leave it as NaN value for no Garage presentation\n",
    "\n",
    "new_data['GarageType'] = new_data['GarageType'].fillna('NoG')"
   ]
  },
  {
   "cell_type": "code",
   "execution_count": 9,
   "metadata": {},
   "outputs": [
    {
     "data": {
      "text/plain": [
       "'\\nn_rows = int(len(num_data_columns)/2)\\nn_cols = 3\\nfig, axs = plt.subplots(n_rows, n_cols, figsize=(20,20))\\nif(n_rows>1):\\n    axs = axs.flatten()\\nfor i, column in enumerate(num_data_columns):\\n    ax = axs[i]\\n    ax.hist(raw_data[column], bins = 30)\\n    ax.set_title(column)\\nplt.tight_layout()\\nplt.show()\\nraw_data[num_data_columns].skew()\\n'"
      ]
     },
     "execution_count": 9,
     "metadata": {},
     "output_type": "execute_result"
    }
   ],
   "source": [
    "#plot to see whether a column was skewed or contain outlier\n",
    "#notice that with randon forrest which is known as robust with skewed and outlier so there is not really need to deal with those kind of data so i wont deal with it\n",
    "#most of the data is significant portion of the house so we should no deal with it\n",
    "\"\"\"\n",
    "n_rows = int(len(num_data_columns)/2)\n",
    "n_cols = 3\n",
    "fig, axs = plt.subplots(n_rows, n_cols, figsize=(20,20))\n",
    "if(n_rows>1):\n",
    "    axs = axs.flatten()\n",
    "for i, column in enumerate(num_data_columns):\n",
    "    ax = axs[i]\n",
    "    ax.hist(raw_data[column], bins = 30)\n",
    "    ax.set_title(column)\n",
    "plt.tight_layout()\n",
    "plt.show()\n",
    "raw_data[num_data_columns].skew()\n",
    "\"\"\""
   ]
  },
  {
   "cell_type": "code",
   "execution_count": 10,
   "metadata": {},
   "outputs": [],
   "source": [
    "#pre-processing data\n",
    "\n",
    "#min_max scaler\n",
    "numerical_process = MinMaxScaler()\n",
    "new_data[num_data_columns] = numerical_process.fit_transform(new_data[num_data_columns])\n",
    "\n",
    "#label_encoding\n",
    "label_process = LabelEncoder()\n",
    "for column in label_data_columns:\n",
    "    new_data[column] = label_process.fit_transform(new_data[column])\n",
    "\n",
    "#one hot encoding\n",
    "new_data = pd.get_dummies(new_data, columns=one_hot_columns)"
   ]
  },
  {
   "cell_type": "code",
   "execution_count": 11,
   "metadata": {},
   "outputs": [],
   "source": [
    "X_train, X_test, y_train, y_test = train_test_split(new_data,y,test_size=0.3,random_state=4)"
   ]
  },
  {
   "cell_type": "code",
   "execution_count": 12,
   "metadata": {},
   "outputs": [
    {
     "data": {
      "text/html": [
       "<style>#sk-container-id-1 {color: black;background-color: white;}#sk-container-id-1 pre{padding: 0;}#sk-container-id-1 div.sk-toggleable {background-color: white;}#sk-container-id-1 label.sk-toggleable__label {cursor: pointer;display: block;width: 100%;margin-bottom: 0;padding: 0.3em;box-sizing: border-box;text-align: center;}#sk-container-id-1 label.sk-toggleable__label-arrow:before {content: \"▸\";float: left;margin-right: 0.25em;color: #696969;}#sk-container-id-1 label.sk-toggleable__label-arrow:hover:before {color: black;}#sk-container-id-1 div.sk-estimator:hover label.sk-toggleable__label-arrow:before {color: black;}#sk-container-id-1 div.sk-toggleable__content {max-height: 0;max-width: 0;overflow: hidden;text-align: left;background-color: #f0f8ff;}#sk-container-id-1 div.sk-toggleable__content pre {margin: 0.2em;color: black;border-radius: 0.25em;background-color: #f0f8ff;}#sk-container-id-1 input.sk-toggleable__control:checked~div.sk-toggleable__content {max-height: 200px;max-width: 100%;overflow: auto;}#sk-container-id-1 input.sk-toggleable__control:checked~label.sk-toggleable__label-arrow:before {content: \"▾\";}#sk-container-id-1 div.sk-estimator input.sk-toggleable__control:checked~label.sk-toggleable__label {background-color: #d4ebff;}#sk-container-id-1 div.sk-label input.sk-toggleable__control:checked~label.sk-toggleable__label {background-color: #d4ebff;}#sk-container-id-1 input.sk-hidden--visually {border: 0;clip: rect(1px 1px 1px 1px);clip: rect(1px, 1px, 1px, 1px);height: 1px;margin: -1px;overflow: hidden;padding: 0;position: absolute;width: 1px;}#sk-container-id-1 div.sk-estimator {font-family: monospace;background-color: #f0f8ff;border: 1px dotted black;border-radius: 0.25em;box-sizing: border-box;margin-bottom: 0.5em;}#sk-container-id-1 div.sk-estimator:hover {background-color: #d4ebff;}#sk-container-id-1 div.sk-parallel-item::after {content: \"\";width: 100%;border-bottom: 1px solid gray;flex-grow: 1;}#sk-container-id-1 div.sk-label:hover label.sk-toggleable__label {background-color: #d4ebff;}#sk-container-id-1 div.sk-serial::before {content: \"\";position: absolute;border-left: 1px solid gray;box-sizing: border-box;top: 0;bottom: 0;left: 50%;z-index: 0;}#sk-container-id-1 div.sk-serial {display: flex;flex-direction: column;align-items: center;background-color: white;padding-right: 0.2em;padding-left: 0.2em;position: relative;}#sk-container-id-1 div.sk-item {position: relative;z-index: 1;}#sk-container-id-1 div.sk-parallel {display: flex;align-items: stretch;justify-content: center;background-color: white;position: relative;}#sk-container-id-1 div.sk-item::before, #sk-container-id-1 div.sk-parallel-item::before {content: \"\";position: absolute;border-left: 1px solid gray;box-sizing: border-box;top: 0;bottom: 0;left: 50%;z-index: -1;}#sk-container-id-1 div.sk-parallel-item {display: flex;flex-direction: column;z-index: 1;position: relative;background-color: white;}#sk-container-id-1 div.sk-parallel-item:first-child::after {align-self: flex-end;width: 50%;}#sk-container-id-1 div.sk-parallel-item:last-child::after {align-self: flex-start;width: 50%;}#sk-container-id-1 div.sk-parallel-item:only-child::after {width: 0;}#sk-container-id-1 div.sk-dashed-wrapped {border: 1px dashed gray;margin: 0 0.4em 0.5em 0.4em;box-sizing: border-box;padding-bottom: 0.4em;background-color: white;}#sk-container-id-1 div.sk-label label {font-family: monospace;font-weight: bold;display: inline-block;line-height: 1.2em;}#sk-container-id-1 div.sk-label-container {text-align: center;}#sk-container-id-1 div.sk-container {/* jupyter's `normalize.less` sets `[hidden] { display: none; }` but bootstrap.min.css set `[hidden] { display: none !important; }` so we also need the `!important` here to be able to override the default hidden behavior on the sphinx rendered scikit-learn.org. See: https://github.com/scikit-learn/scikit-learn/issues/21755 */display: inline-block !important;position: relative;}#sk-container-id-1 div.sk-text-repr-fallback {display: none;}</style><div id=\"sk-container-id-1\" class=\"sk-top-container\"><div class=\"sk-text-repr-fallback\"><pre>SelectFromModel(estimator=RandomForestRegressor(criterion=&#x27;friedman_mse&#x27;,\n",
       "                                                n_estimators=1000))</pre><b>In a Jupyter environment, please rerun this cell to show the HTML representation or trust the notebook. <br />On GitHub, the HTML representation is unable to render, please try loading this page with nbviewer.org.</b></div><div class=\"sk-container\" hidden><div class=\"sk-item sk-dashed-wrapped\"><div class=\"sk-label-container\"><div class=\"sk-label sk-toggleable\"><input class=\"sk-toggleable__control sk-hidden--visually\" id=\"sk-estimator-id-1\" type=\"checkbox\" ><label for=\"sk-estimator-id-1\" class=\"sk-toggleable__label sk-toggleable__label-arrow\">SelectFromModel</label><div class=\"sk-toggleable__content\"><pre>SelectFromModel(estimator=RandomForestRegressor(criterion=&#x27;friedman_mse&#x27;,\n",
       "                                                n_estimators=1000))</pre></div></div></div><div class=\"sk-parallel\"><div class=\"sk-parallel-item\"><div class=\"sk-item\"><div class=\"sk-label-container\"><div class=\"sk-label sk-toggleable\"><input class=\"sk-toggleable__control sk-hidden--visually\" id=\"sk-estimator-id-2\" type=\"checkbox\" ><label for=\"sk-estimator-id-2\" class=\"sk-toggleable__label sk-toggleable__label-arrow\">estimator: RandomForestRegressor</label><div class=\"sk-toggleable__content\"><pre>RandomForestRegressor(criterion=&#x27;friedman_mse&#x27;, n_estimators=1000)</pre></div></div></div><div class=\"sk-serial\"><div class=\"sk-item\"><div class=\"sk-estimator sk-toggleable\"><input class=\"sk-toggleable__control sk-hidden--visually\" id=\"sk-estimator-id-3\" type=\"checkbox\" ><label for=\"sk-estimator-id-3\" class=\"sk-toggleable__label sk-toggleable__label-arrow\">RandomForestRegressor</label><div class=\"sk-toggleable__content\"><pre>RandomForestRegressor(criterion=&#x27;friedman_mse&#x27;, n_estimators=1000)</pre></div></div></div></div></div></div></div></div></div></div>"
      ],
      "text/plain": [
       "SelectFromModel(estimator=RandomForestRegressor(criterion='friedman_mse',\n",
       "                                                n_estimators=1000))"
      ]
     },
     "execution_count": 12,
     "metadata": {},
     "output_type": "execute_result"
    }
   ],
   "source": [
    "sel = SelectFromModel(RandomForestRegressor(criterion='friedman_mse',n_estimators=1000))\n",
    "sel.fit(X_train,y_train)"
   ]
  },
  {
   "cell_type": "code",
   "execution_count": 13,
   "metadata": {},
   "outputs": [
    {
     "data": {
      "text/plain": [
       "11"
      ]
     },
     "execution_count": 13,
     "metadata": {},
     "output_type": "execute_result"
    }
   ],
   "source": [
    "selected_feat= new_data.columns[(sel.get_support())]\n",
    "len(selected_feat) "
   ]
  },
  {
   "cell_type": "code",
   "execution_count": 14,
   "metadata": {},
   "outputs": [
    {
     "data": {
      "text/plain": [
       "Index(['GrLivArea', 'TotalBsmtSF', '1stFlrSF', 'YearBuilt', 'GarageArea',\n",
       "       'LotArea', 'BsmtFinSF1', 'TotRmsAbvGrd', 'OverallQual', 'FullBath',\n",
       "       'GarageCars_3'],\n",
       "      dtype='object')"
      ]
     },
     "execution_count": 14,
     "metadata": {},
     "output_type": "execute_result"
    }
   ],
   "source": [
    "selected_feat"
   ]
  },
  {
   "cell_type": "code",
   "execution_count": 20,
   "metadata": {},
   "outputs": [
    {
     "name": "stdout",
     "output_type": "stream",
     "text": [
      "0.8841911520225183\n"
     ]
    }
   ],
   "source": [
    "after_choose_data = new_data[selected_feat]\n",
    "X_train, X_test, y_train, y_test = train_test_split(after_choose_data, y, test_size=0.3,random_state=4)\n",
    "rd_model = RandomForestRegressor(criterion='friedman_mse',n_estimators=1000)\n",
    "rd_model.fit(X_train,y_train)\n",
    "print(rd_model.score(X_test, y_test))\n"
   ]
  },
  {
   "cell_type": "code",
   "execution_count": 24,
   "metadata": {},
   "outputs": [
    {
     "name": "stdout",
     "output_type": "stream",
     "text": [
      "24873.089266206734\n",
      "178235.82420091325\n"
     ]
    }
   ],
   "source": [
    "predict = rd_model.predict(X_test)\n",
    "MSError = mean_squared_error(y_test,predict)\n",
    "print(np.sqrt(MSError))\n",
    "print(y_test.mean())"
   ]
  },
  {
   "cell_type": "code",
   "execution_count": 16,
   "metadata": {},
   "outputs": [
    {
     "ename": "NameError",
     "evalue": "name 'dt' is not defined",
     "output_type": "error",
     "traceback": [
      "\u001b[1;31m---------------------------------------------------------------------------\u001b[0m",
      "\u001b[1;31mNameError\u001b[0m                                 Traceback (most recent call last)",
      "Cell \u001b[1;32mIn[16], line 3\u001b[0m\n\u001b[0;32m      1\u001b[0m \u001b[39mimport\u001b[39;00m \u001b[39mgraphviz\u001b[39;00m \n\u001b[1;32m----> 3\u001b[0m dot_data \u001b[39m=\u001b[39m tree\u001b[39m.\u001b[39mexport_graphviz(dt, out_file\u001b[39m=\u001b[39m\u001b[39mNone\u001b[39;00m, \n\u001b[0;32m      4\u001b[0m     feature_names\u001b[39m=\u001b[39mnew_raw_data\u001b[39m.\u001b[39mdrop(\u001b[39m'\u001b[39m\u001b[39mExited\u001b[39m\u001b[39m'\u001b[39m, axis\u001b[39m=\u001b[39m\u001b[39m1\u001b[39m)\u001b[39m.\u001b[39mcolumns,    \n\u001b[0;32m      5\u001b[0m     class_names\u001b[39m=\u001b[39mnew_raw_data[\u001b[39m'\u001b[39m\u001b[39mExited\u001b[39m\u001b[39m'\u001b[39m]\u001b[39m.\u001b[39munique()\u001b[39m.\u001b[39mastype(\u001b[39mstr\u001b[39m),  \n\u001b[0;32m      6\u001b[0m     filled\u001b[39m=\u001b[39m\u001b[39mTrue\u001b[39;00m, rounded\u001b[39m=\u001b[39m\u001b[39mTrue\u001b[39;00m,  \n\u001b[0;32m      7\u001b[0m     special_characters\u001b[39m=\u001b[39m\u001b[39mTrue\u001b[39;00m)\n\u001b[0;32m      8\u001b[0m graph \u001b[39m=\u001b[39m graphviz\u001b[39m.\u001b[39mSource(dot_data)\n\u001b[0;32m      9\u001b[0m graph\n",
      "\u001b[1;31mNameError\u001b[0m: name 'dt' is not defined"
     ]
    }
   ],
   "source": [
    "import graphviz \n",
    "\n",
    "dot_data = tree.export_graphviz(dt, out_file=None, \n",
    "    feature_names=after_choose_data  \n",
    "    class_names=new_raw_data['Exited'].unique().astype(str),  \n",
    "    filled=True, rounded=True,  \n",
    "    special_characters=True)\n",
    "graph = graphviz.Source(dot_data)\n",
    "graph"
   ]
  }
 ],
 "metadata": {
  "kernelspec": {
   "display_name": "myenv",
   "language": "python",
   "name": "python3"
  },
  "language_info": {
   "codemirror_mode": {
    "name": "ipython",
    "version": 3
   },
   "file_extension": ".py",
   "mimetype": "text/x-python",
   "name": "python",
   "nbconvert_exporter": "python",
   "pygments_lexer": "ipython3",
   "version": "3.9.16"
  },
  "orig_nbformat": 4
 },
 "nbformat": 4,
 "nbformat_minor": 2
}
